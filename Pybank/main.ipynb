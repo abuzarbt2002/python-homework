{
 "cells": [
  {
   "cell_type": "markdown",
   "metadata": {},
   "source": [
    "**PYBANK ASSIGNEMENT**"
   ]
  },
  {
   "cell_type": "code",
   "execution_count": 1,
   "metadata": {},
   "outputs": [],
   "source": [
    "import pandas as pd\n",
    "from pathlib import Path"
   ]
  },
  {
   "cell_type": "code",
   "execution_count": 3,
   "metadata": {},
   "outputs": [],
   "source": [
    "excel = Path(r'C:\\Users\\Office\\Desktop\\PyBank_Resources_budget_data.csv')"
   ]
  },
  {
   "cell_type": "code",
   "execution_count": 47,
   "metadata": {},
   "outputs": [],
   "source": [
    "pycharm = pd.read_csv(excel)"
   ]
  },
  {
   "cell_type": "code",
   "execution_count": 12,
   "metadata": {},
   "outputs": [
    {
     "name": "stdout",
     "output_type": "stream",
     "text": [
      "Total Months: 86\n"
     ]
    }
   ],
   "source": [
    "# Number of months in month Column\n",
    "total_months = pycharm['Date'].count()\n",
    "print(f'Total Months: {str(total_months)}')"
   ]
  },
  {
   "cell_type": "code",
   "execution_count": 11,
   "metadata": {},
   "outputs": [
    {
     "name": "stdout",
     "output_type": "stream",
     "text": [
      "Total: $38382578\n"
     ]
    }
   ],
   "source": [
    "# Total of the Profit/Losses Column\n",
    "total_sum = pycharm['Profit/Losses'].sum()\n",
    "print(f'Total: ${str(total_sum)}')"
   ]
  },
  {
   "cell_type": "code",
   "execution_count": 68,
   "metadata": {},
   "outputs": [
    {
     "name": "stdout",
     "output_type": "stream",
     "text": [
      "-2315.12\n"
     ]
    }
   ],
   "source": [
    "# Average of the Profit/Losses Column\n",
    "average = pycharm['Profit/Losses']\n",
    "profit_change = []\n",
    "x = 0\n",
    "for items in average:\n",
    "    if x == 0:\n",
    "        x = items        \n",
    "    else:\n",
    "        profit_change.append(items - x)\n",
    "        x = items\n",
    "\n",
    "print(round(sum(profit_change)/len(profit_change),2))"
   ]
  },
  {
   "cell_type": "code",
   "execution_count": 43,
   "metadata": {},
   "outputs": [],
   "source": [
    "# Greatest increse in profits (date and amount) over the entire period\n",
    "max_profit = max(profit_change)\n",
    "max_index = profit_change.index(max(profit_change))+1\n",
    "greatest_profit_date = pycharm['Date'][max_index]\n",
    "# Greatest decrease in losses (date and amount) over the entire period\n",
    "min_profit = min(profit_change)\n",
    "min_index = profit_change.index(min(profit_change))+1\n",
    "greatest_losses_date = pycharm['Date'][min_index]"
   ]
  },
  {
   "cell_type": "code",
   "execution_count": 44,
   "metadata": {},
   "outputs": [
    {
     "name": "stdout",
     "output_type": "stream",
     "text": [
      "Financial Analysis\n",
      "----------------\n",
      "Total Months: 86\n",
      "Total: $38382578\n",
      "Average Change: -2315.12\n",
      "Greatest increase in Profits: Feb-2012 ($1926159)\n",
      "Greatest Decrease in Profits: Sep-2013 ($-2196167)\n"
     ]
    }
   ],
   "source": [
    "# Overall Result\n",
    "print('Financial Analysis')\n",
    "print('----------------')\n",
    "print(f'Total Months: {str(total_months)}')\n",
    "print(f'Total: ${str(total_sum)}')\n",
    "print(f'Average Change: {round(sum(profit_change)/len(profit_change),2)}')\n",
    "print(f'Greatest increase in Profits: {greatest_profit_date} (${max_profit})')\n",
    "print(f'Greatest Decrease in Profits: {greatest_losses_date} (${min_profit})')"
   ]
  },
  {
   "cell_type": "code",
   "execution_count": 46,
   "metadata": {},
   "outputs": [],
   "source": [
    "#write changes to csv\n",
    "output_path = Path(r'C:\\Users\\Office\\Desktop\\Financial_Analysis_Summary.csv')\n",
    "with open(output_path, 'w') as file:\n",
    "    file.write(\"Financial Analysis\\n\")\n",
    "    file.write(\"---------------------\\n\")\n",
    "    file.write(f'Total Months: {str(total_months)}\\n')\n",
    "    file.write(f'Total: ${str(total_sum)}\\n')\n",
    "    file.write(f'Average Change: {round(sum(profit_change)/len(profit_change),2)}\\n')\n",
    "    file.write(f'Greatest increase in Profits: {greatest_profit_date} (${max_profit})\\n')\n",
    "    file.write(f'Greatest Decrease in Profits: {greatest_losses_date} (${min_profit})\\n')"
   ]
  }
 ],
 "metadata": {
  "kernelspec": {
   "display_name": "Python 3",
   "language": "python",
   "name": "python3"
  },
  "language_info": {
   "codemirror_mode": {
    "name": "ipython",
    "version": 3
   },
   "file_extension": ".py",
   "mimetype": "text/x-python",
   "name": "python",
   "nbconvert_exporter": "python",
   "pygments_lexer": "ipython3",
   "version": "3.8.3"
  }
 },
 "nbformat": 4,
 "nbformat_minor": 4
}
